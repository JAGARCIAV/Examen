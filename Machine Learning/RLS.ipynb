{
 "cells": [
  {
   "cell_type": "code",
   "execution_count": null,
   "id": "ba6c1d1a",
   "metadata": {},
   "outputs": [],
   "source": []
  },
  {
   "cell_type": "code",
   "execution_count": null,
   "id": "e5fe8097",
   "metadata": {},
   "outputs": [],
   "source": []
  },
  {
   "cell_type": "code",
   "execution_count": null,
   "id": "1e2ddcab",
   "metadata": {},
   "outputs": [],
   "source": []
  },
  {
   "cell_type": "code",
   "execution_count": null,
   "id": "80d2598f",
   "metadata": {},
   "outputs": [],
   "source": [
    "cols = ['TV', 'Radio', 'Newspaper']\n",
    "\n",
    "for col in cols:\n",
    "  plt.plot(data[col], data[\"Sales\"], \"ro\")\n",
    "  plt.title(\"Ventas respecto a la publicidad en %s\" % col)\n",
    "  plt.show()"
   ]
  },
  {
   "cell_type": "code",
   "execution_count": null,
   "id": "dc22852e",
   "metadata": {},
   "outputs": [],
   "source": [
    "#  tv, RADIO, newspaper\n",
    "data_radio = data[\"Radio\"]\n",
    "data_radio= data_radio.values.reshape(-1, 1)\n",
    "y=data[\"Sales\"].values\n",
    "X_train, X_test, y_train, y_test = train_test_split(data_radio, y, test_size=0.2, random_state=42)\n",
    "reg = LinearRegression()\n",
    "reg.fit(X_train, y_train)\n",
    "y_pred = reg.predict(X_test)\n",
    "print(\"Prediciones: {}, valores Actuales: {}\".format(y_pred[:4], y_test[:4]))\n",
    "r_squared = reg.score(X_test, y_test)\n",
    "rmse = np.sqrt(mean_squared_error(y_test, y_pred))\n",
    "print(r_squared, rmse)\n",
    "sales_comp=pd.DataFrame({\"Radio\": X_test.flatten(), \"RealSales\": y_test, \"PredictedSales\": y_pred})\n",
    "\n",
    "sales_comp.head()\n",
    "\n",
    "#graficar\n",
    "plt.plot(sales_comp[\"Radio\"], sales_comp[\"RealSales\"], \"ro\")\n",
    "plt.plot(sales_comp[\"Radio\"], sales_comp[\"PredictedSales\"])\n",
    "plt.title(\"Ventas respecto a la publicidad en Radio\")\n",
    "plt.xlabel(\"Radio\")\n",
    "plt.ylabel(\"Ventas\")\n"
   ]
  },
  {
   "cell_type": "code",
   "execution_count": null,
   "id": "e1ac5809",
   "metadata": {},
   "outputs": [],
   "source": [
    "# tv-periodico, TV- RADIO\n",
    "X = data.drop([\"Newspaper\", \"Sales\"], axis=1).values\n",
    "y = data[\"Sales\"].values\n",
    "\n",
    "X_train, X_test, y_train, y_test = train_test_split(X, y, test_size=0.3, random_state=42)\n",
    "\n",
    "reg = LinearRegression()\n",
    "\n",
    "reg.fit(X_train, y_train)\n",
    "\n",
    "y_pred = reg.predict(X_test)\n",
    "\n",
    "print(\"Predicciones: {}, Valores Actuales: {}\".format(y_pred[:4], y_test[:4]))\n",
    "r_squared = reg.score(X_test, y_test)\n",
    "\n",
    "rmse = mean_squared_error(y_test, y_pred)\n",
    "\n",
    "print(r_squared, rmse)\n",
    "sales_comp = pd.DataFrame({\n",
    "    \"TV\": X_test[:, 0].flatten(),\n",
    "    \"Radio\": X_test[:, 1].flatten(),\n",
    "    \"realSales\": y_test.flatten(),\n",
    "    \"predSales\": y_pred.flatten()\n",
    "})\n",
    "\n",
    "sales_comp.head()\n",
    "\n",
    "sns.regplot(x = sales_comp[\"realSales\"], y = sales_comp[\"predSales\"])\n"
   ]
  },
  {
   "cell_type": "code",
   "execution_count": null,
   "id": "aaeddd51",
   "metadata": {},
   "outputs": [],
   "source": []
  },
  {
   "cell_type": "code",
   "execution_count": null,
   "id": "a3aa9a6e",
   "metadata": {},
   "outputs": [],
   "source": []
  },
  {
   "cell_type": "code",
   "execution_count": null,
   "id": "b84fa64f",
   "metadata": {},
   "outputs": [],
   "source": []
  }
 ],
 "metadata": {
  "kernelspec": {
   "display_name": "Python 3",
   "language": "python",
   "name": "python3"
  },
  "language_info": {
   "codemirror_mode": {
    "name": "ipython",
    "version": 3
   },
   "file_extension": ".py",
   "mimetype": "text/x-python",
   "name": "python",
   "nbconvert_exporter": "python",
   "pygments_lexer": "ipython3",
   "version": "3.13.2"
  }
 },
 "nbformat": 4,
 "nbformat_minor": 5
}
