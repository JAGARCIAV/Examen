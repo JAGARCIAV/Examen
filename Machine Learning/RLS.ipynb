{
 "cells": [
  {
   "cell_type": "code",
   "execution_count": null,
   "id": "969ce811",
   "metadata": {},
   "outputs": [],
   "source": []
  },
  {
   "cell_type": "code",
   "execution_count": null,
   "id": "dbcae641",
   "metadata": {},
   "outputs": [],
   "source": []
  },
  {
   "cell_type": "code",
   "execution_count": null,
   "id": "1adf76ec",
   "metadata": {},
   "outputs": [],
   "source": []
  },
  {
   "cell_type": "code",
   "execution_count": null,
   "id": "78667748",
   "metadata": {},
   "outputs": [],
   "source": []
  },
  {
   "cell_type": "code",
   "execution_count": null,
   "id": "87f87475",
   "metadata": {},
   "outputs": [],
   "source": []
  },
  {
   "cell_type": "code",
   "execution_count": null,
   "id": "bbc6d1c2",
   "metadata": {},
   "outputs": [],
   "source": []
  },
  {
   "cell_type": "code",
   "execution_count": null,
   "id": "98e25c5f",
   "metadata": {},
   "outputs": [],
   "source": []
  },
  {
   "cell_type": "code",
   "execution_count": null,
   "id": "e8b1a878",
   "metadata": {},
   "outputs": [],
   "source": []
  },
  {
   "cell_type": "code",
   "execution_count": null,
   "id": "a373dcf6",
   "metadata": {},
   "outputs": [],
   "source": []
  },
  {
   "cell_type": "code",
   "execution_count": null,
   "metadata": {},
   "outputs": [],
   "source": []
  },
  {
   "cell_type": "code",
   "execution_count": null,
   "id": "dc22852e",
   "metadata": {},
   "outputs": [],
   "source": []
  },
  {
   "cell_type": "code",
   "execution_count": null,
   "id": "e1ac5809",
   "metadata": {},
   "outputs": [],
   "source": []
  },
  {
   "cell_type": "code",
   "execution_count": null,
   "id": "31937c81",
   "metadata": {},
   "outputs": [],
   "source": []
  },
  {
   "cell_type": "code",
   "execution_count": null,
   "id": "a85e605a",
   "metadata": {},
   "outputs": [],
   "source": []
  },
  {
   "cell_type": "code",
   "execution_count": null,
   "id": "72463859",
   "metadata": {},
   "outputs": [],
   "source": []
  },
  {
   "cell_type": "code",
   "execution_count": null,
   "id": "201b04a5",
   "metadata": {},
   "outputs": [],
   "source": []
  },
  {
   "cell_type": "code",
   "execution_count": null,
   "id": "9b5ca136",
   "metadata": {},
   "outputs": [],
   "source": []
  },
  {
   "cell_type": "code",
   "execution_count": null,
   "id": "f0664ce0",
   "metadata": {},
   "outputs": [],
   "source": []
  },
  {
   "cell_type": "code",
   "execution_count": null,
   "id": "2ebf1ab3",
   "metadata": {},
   "outputs": [],
   "source": []
  },
  {
   "cell_type": "code",
   "execution_count": null,
   "id": "78a4c095",
   "metadata": {},
   "outputs": [],
   "source": [
    "cols= ['TV', 'Radio', 'Newspaper']\n",
    "\n",
    "for col in cols:\n",
    "    plt.plot(data[col],data['Sales'], \"ro\")\n",
    "    plt.title(\" Ventas respecto a las publicidad en %s\"%col)\n",
    "    plt.show()"
   ]
  },
  {
   "cell_type": "markdown",
   "id": "605f347b",
   "metadata": {},
   "source": [
    "# s"
   ]
  },
  {
   "cell_type": "markdown",
   "id": "8401c0b8",
   "metadata": {},
   "source": [
    "# TV"
   ]
  },
  {
   "cell_type": "code",
   "execution_count": null,
   "id": "e08def9a",
   "metadata": {},
   "outputs": [],
   "source": []
  },
  {
   "cell_type": "markdown",
   "id": "eafe677a",
   "metadata": {},
   "source": [
    "# RADIO"
   ]
  },
  {
   "cell_type": "code",
   "execution_count": null,
   "id": "b81c24ca",
   "metadata": {},
   "outputs": [],
   "source": [
    "data_tv = data[\"Radio\"]\n",
    "data_tv = data_tv.values.reshape(-1, 1)\n",
    "y = data[\"Sales\"].values\n",
    "X_train, X_test, y_train, y_test = train_test_split(data_tv, y, test_size=0.2, random_state=42)\n",
    "reg = LinearRegression()\n",
    "reg.fit(X_train, y_train)\n",
    "y_pred = reg.predict(X_test)\n",
    "print(\"Predicciones:{}, Valores Actuales:{}\".format(y_pred[:4], y_test[:4]))"
   ]
  },
  {
   "cell_type": "code",
   "execution_count": null,
   "id": "8bb756bd",
   "metadata": {},
   "outputs": [],
   "source": [
    "r_squared = reg.score(X_test, y_test)\n",
    "rmse = np.sqrt(mean_squared_error(y_test, y_pred))\n",
    "print(r_squared, rmse)"
   ]
  },
  {
   "cell_type": "code",
   "execution_count": null,
   "id": "8c897f50",
   "metadata": {},
   "outputs": [],
   "source": [
    "sales_comp = pd.DataFrame({\n",
    "    \"Radio\": X_test.flatten(),\n",
    "    \"realSales\": y_test.flatten(),\n",
    "    \"predictedSales\": y_pred.flatten()\n",
    "})\n",
    "sales_comp.head()"
   ]
  },
  {
   "cell_type": "code",
   "execution_count": null,
   "id": "2210ed65",
   "metadata": {},
   "outputs": [],
   "source": [
    "plt.plot(sales_comp[\"Radio\"], sales_comp[\"realSales\"], \"ro\")\n",
    "plt.plot(sales_comp[\"Radio\"], sales_comp[\"predictedSales\"])\n",
    "plt.title(\"ventas respecto a la publicidad en Radio\")\n",
    "plt.xlabel(\"Radio\")\n",
    "plt.ylabel(\"Ventas\")\n",
    "plt.show()"
   ]
  },
  {
   "cell_type": "markdown",
   "id": "75c6d7c9",
   "metadata": {},
   "source": [
    "# Periodico"
   ]
  },
  {
   "cell_type": "markdown",
   "id": "85442397",
   "metadata": {},
   "source": []
  },
  {
   "cell_type": "code",
   "execution_count": null,
   "id": "c96776d2",
   "metadata": {},
   "outputs": [],
   "source": []
  },
  {
   "cell_type": "code",
   "execution_count": null,
   "id": "520806af",
   "metadata": {},
   "outputs": [],
   "source": []
  },
  {
   "cell_type": "markdown",
   "id": "bfb66690",
   "metadata": {},
   "source": [
    "# M"
   ]
  },
  {
   "cell_type": "markdown",
   "id": "194614d1",
   "metadata": {},
   "source": [
    "# TV - Periodico"
   ]
  },
  {
   "cell_type": "code",
   "execution_count": null,
   "id": "a705265a",
   "metadata": {},
   "outputs": [],
   "source": [
    "\n",
    "X = data.drop([\"Radio\", \"Sales\"], axis=1).values\n",
    "y = data[\"Sales\"].values\n",
    "\n",
    "X_train, X_test, y_train, y_test = train_test_split(X, y, test_size=0.3, random_state=42)\n",
    "\n",
    "reg = LinearRegression()\n",
    "\n",
    "reg.fit(X_train, y_train)\n",
    "\n",
    "y_pred = reg.predict(X_test)\n",
    "\n",
    "print(\"Predicciones: {}, Valores Actuales: {}\".format(y_pred[:4], y_test[:4]))"
   ]
  },
  {
   "cell_type": "code",
   "execution_count": null,
   "id": "51d35a38",
   "metadata": {},
   "outputs": [],
   "source": [
    "r_squared = reg.score(X_test, y_test)\n",
    "\n",
    "rmse = mean_squared_error(y_test, y_pred)\n",
    "\n",
    "print(r_squared, rmse)"
   ]
  },
  {
   "cell_type": "markdown",
   "id": "c750ef97",
   "metadata": {},
   "source": [
    "# TV - Radio"
   ]
  },
  {
   "cell_type": "code",
   "execution_count": null,
   "id": "52dc700f",
   "metadata": {},
   "outputs": [],
   "source": []
  },
  {
   "cell_type": "code",
   "execution_count": null,
   "id": "f4829962",
   "metadata": {},
   "outputs": [],
   "source": []
  },
  {
   "cell_type": "code",
   "execution_count": null,
   "id": "18c66308",
   "metadata": {},
   "outputs": [],
   "source": []
  },
  {
   "cell_type": "code",
   "execution_count": null,
   "id": "5a15a421",
   "metadata": {},
   "outputs": [],
   "source": []
  },
  {
   "cell_type": "code",
   "execution_count": null,
   "id": "30f71d13",
   "metadata": {},
   "outputs": [],
   "source": []
  },
  {
   "cell_type": "code",
   "execution_count": null,
   "id": "0f316647",
   "metadata": {},
   "outputs": [],
   "source": []
  },
  {
   "cell_type": "code",
   "execution_count": null,
   "id": "a6a3fba5",
   "metadata": {},
   "outputs": [],
   "source": []
  },
  {
   "cell_type": "code",
   "execution_count": null,
   "id": "aaeddd51",
   "metadata": {},
   "outputs": [],
   "source": []
  },
  {
   "cell_type": "code",
   "execution_count": null,
   "id": "a3aa9a6e",
   "metadata": {},
   "outputs": [],
   "source": []
  },
  {
   "cell_type": "code",
   "execution_count": null,
   "id": "b84fa64f",
   "metadata": {},
   "outputs": [],
   "source": []
  }
 ],
 "metadata": {
  "kernelspec": {
   "display_name": "Python 3",
   "language": "python",
   "name": "python3"
  },
  "language_info": {
   "codemirror_mode": {
    "name": "ipython",
    "version": 3
   },
   "file_extension": ".py",
   "mimetype": "text/x-python",
   "name": "python",
   "nbconvert_exporter": "python",
   "pygments_lexer": "ipython3",
   "version": "3.13.2"
  }
 },
 "nbformat": 4,
 "nbformat_minor": 5
}
